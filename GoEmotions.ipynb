{
 "cells": [
  {
   "cell_type": "markdown",
   "id": "705a3e0f-0a49-40a8-9e85-7b9367f61b70",
   "metadata": {},
   "source": [
    "# Import Libraries"
   ]
  },
  {
   "cell_type": "code",
   "execution_count": 1,
   "id": "3c750770-2fc0-4257-b99b-38a830adf3c2",
   "metadata": {},
   "outputs": [],
   "source": [
    "import pandas as pd\n",
    "import json"
   ]
  },
  {
   "cell_type": "markdown",
   "id": "59d39b02-a9f4-4762-8dac-29a34cd50d86",
   "metadata": {},
   "source": [
    "# Load the dataset"
   ]
  },
  {
   "cell_type": "code",
   "execution_count": 3,
   "id": "50cfca02-c829-4dd1-a3ec-bfa057e4f71d",
   "metadata": {},
   "outputs": [
    {
     "ename": "FileNotFoundError",
     "evalue": "[Errno 2] No such file or directory: 'Documents/Python_Projects/EmotionDetection/GoEmotions.ipynb/train.tsv'",
     "output_type": "error",
     "traceback": [
      "\u001b[0;31m---------------------------------------------------------------------------\u001b[0m",
      "\u001b[0;31mFileNotFoundError\u001b[0m                         Traceback (most recent call last)",
      "Cell \u001b[0;32mIn[3], line 5\u001b[0m\n\u001b[1;32m      2\u001b[0m goemotions_path \u001b[38;5;241m=\u001b[39m \u001b[38;5;124m\"\u001b[39m\u001b[38;5;124mDocuments/Python_Projects/EmotionDetection/GoEmotions.ipynb\u001b[39m\u001b[38;5;124m\"\u001b[39m\n\u001b[1;32m      4\u001b[0m \u001b[38;5;66;03m# Load the training data\u001b[39;00m\n\u001b[0;32m----> 5\u001b[0m train_df \u001b[38;5;241m=\u001b[39m pd\u001b[38;5;241m.\u001b[39mread_csv(\u001b[38;5;124mf\u001b[39m\u001b[38;5;124m\"\u001b[39m\u001b[38;5;132;01m{\u001b[39;00mgoemotions_path\u001b[38;5;132;01m}\u001b[39;00m\u001b[38;5;124m/train.tsv\u001b[39m\u001b[38;5;124m\"\u001b[39m, delimiter\u001b[38;5;241m=\u001b[39m\u001b[38;5;124m\"\u001b[39m\u001b[38;5;130;01m\\t\u001b[39;00m\u001b[38;5;124m\"\u001b[39m, header\u001b[38;5;241m=\u001b[39m\u001b[38;5;28;01mNone\u001b[39;00m, names\u001b[38;5;241m=\u001b[39m[\u001b[38;5;124m\"\u001b[39m\u001b[38;5;124mComment\u001b[39m\u001b[38;5;124m\"\u001b[39m, \u001b[38;5;124m\"\u001b[39m\u001b[38;5;124mClass\u001b[39m\u001b[38;5;124m\"\u001b[39m, \u001b[38;5;124m\"\u001b[39m\u001b[38;5;124mDelete\u001b[39m\u001b[38;5;124m\"\u001b[39m])\n\u001b[1;32m      6\u001b[0m \u001b[38;5;66;03m# Load the test data\u001b[39;00m\n\u001b[1;32m      7\u001b[0m test_df \u001b[38;5;241m=\u001b[39m pd\u001b[38;5;241m.\u001b[39mread_csv(\u001b[38;5;124mf\u001b[39m\u001b[38;5;124m\"\u001b[39m\u001b[38;5;132;01m{\u001b[39;00mgoemotions_path\u001b[38;5;132;01m}\u001b[39;00m\u001b[38;5;124m/test.tsv\u001b[39m\u001b[38;5;124m\"\u001b[39m, delimiter\u001b[38;5;241m=\u001b[39m\u001b[38;5;124m\"\u001b[39m\u001b[38;5;130;01m\\t\u001b[39;00m\u001b[38;5;124m\"\u001b[39m, header\u001b[38;5;241m=\u001b[39m\u001b[38;5;28;01mNone\u001b[39;00m, names\u001b[38;5;241m=\u001b[39m[\u001b[38;5;124m\"\u001b[39m\u001b[38;5;124mComment\u001b[39m\u001b[38;5;124m\"\u001b[39m, \u001b[38;5;124m\"\u001b[39m\u001b[38;5;124mClass\u001b[39m\u001b[38;5;124m\"\u001b[39m, \u001b[38;5;124m\"\u001b[39m\u001b[38;5;124mDelete\u001b[39m\u001b[38;5;124m\"\u001b[39m])\n",
      "File \u001b[0;32m/Applications/Anaconda/anaconda3/lib/python3.11/site-packages/pandas/io/parsers/readers.py:948\u001b[0m, in \u001b[0;36mread_csv\u001b[0;34m(filepath_or_buffer, sep, delimiter, header, names, index_col, usecols, dtype, engine, converters, true_values, false_values, skipinitialspace, skiprows, skipfooter, nrows, na_values, keep_default_na, na_filter, verbose, skip_blank_lines, parse_dates, infer_datetime_format, keep_date_col, date_parser, date_format, dayfirst, cache_dates, iterator, chunksize, compression, thousands, decimal, lineterminator, quotechar, quoting, doublequote, escapechar, comment, encoding, encoding_errors, dialect, on_bad_lines, delim_whitespace, low_memory, memory_map, float_precision, storage_options, dtype_backend)\u001b[0m\n\u001b[1;32m    935\u001b[0m kwds_defaults \u001b[38;5;241m=\u001b[39m _refine_defaults_read(\n\u001b[1;32m    936\u001b[0m     dialect,\n\u001b[1;32m    937\u001b[0m     delimiter,\n\u001b[0;32m   (...)\u001b[0m\n\u001b[1;32m    944\u001b[0m     dtype_backend\u001b[38;5;241m=\u001b[39mdtype_backend,\n\u001b[1;32m    945\u001b[0m )\n\u001b[1;32m    946\u001b[0m kwds\u001b[38;5;241m.\u001b[39mupdate(kwds_defaults)\n\u001b[0;32m--> 948\u001b[0m \u001b[38;5;28;01mreturn\u001b[39;00m _read(filepath_or_buffer, kwds)\n",
      "File \u001b[0;32m/Applications/Anaconda/anaconda3/lib/python3.11/site-packages/pandas/io/parsers/readers.py:611\u001b[0m, in \u001b[0;36m_read\u001b[0;34m(filepath_or_buffer, kwds)\u001b[0m\n\u001b[1;32m    608\u001b[0m _validate_names(kwds\u001b[38;5;241m.\u001b[39mget(\u001b[38;5;124m\"\u001b[39m\u001b[38;5;124mnames\u001b[39m\u001b[38;5;124m\"\u001b[39m, \u001b[38;5;28;01mNone\u001b[39;00m))\n\u001b[1;32m    610\u001b[0m \u001b[38;5;66;03m# Create the parser.\u001b[39;00m\n\u001b[0;32m--> 611\u001b[0m parser \u001b[38;5;241m=\u001b[39m TextFileReader(filepath_or_buffer, \u001b[38;5;241m*\u001b[39m\u001b[38;5;241m*\u001b[39mkwds)\n\u001b[1;32m    613\u001b[0m \u001b[38;5;28;01mif\u001b[39;00m chunksize \u001b[38;5;129;01mor\u001b[39;00m iterator:\n\u001b[1;32m    614\u001b[0m     \u001b[38;5;28;01mreturn\u001b[39;00m parser\n",
      "File \u001b[0;32m/Applications/Anaconda/anaconda3/lib/python3.11/site-packages/pandas/io/parsers/readers.py:1448\u001b[0m, in \u001b[0;36mTextFileReader.__init__\u001b[0;34m(self, f, engine, **kwds)\u001b[0m\n\u001b[1;32m   1445\u001b[0m     \u001b[38;5;28mself\u001b[39m\u001b[38;5;241m.\u001b[39moptions[\u001b[38;5;124m\"\u001b[39m\u001b[38;5;124mhas_index_names\u001b[39m\u001b[38;5;124m\"\u001b[39m] \u001b[38;5;241m=\u001b[39m kwds[\u001b[38;5;124m\"\u001b[39m\u001b[38;5;124mhas_index_names\u001b[39m\u001b[38;5;124m\"\u001b[39m]\n\u001b[1;32m   1447\u001b[0m \u001b[38;5;28mself\u001b[39m\u001b[38;5;241m.\u001b[39mhandles: IOHandles \u001b[38;5;241m|\u001b[39m \u001b[38;5;28;01mNone\u001b[39;00m \u001b[38;5;241m=\u001b[39m \u001b[38;5;28;01mNone\u001b[39;00m\n\u001b[0;32m-> 1448\u001b[0m \u001b[38;5;28mself\u001b[39m\u001b[38;5;241m.\u001b[39m_engine \u001b[38;5;241m=\u001b[39m \u001b[38;5;28mself\u001b[39m\u001b[38;5;241m.\u001b[39m_make_engine(f, \u001b[38;5;28mself\u001b[39m\u001b[38;5;241m.\u001b[39mengine)\n",
      "File \u001b[0;32m/Applications/Anaconda/anaconda3/lib/python3.11/site-packages/pandas/io/parsers/readers.py:1705\u001b[0m, in \u001b[0;36mTextFileReader._make_engine\u001b[0;34m(self, f, engine)\u001b[0m\n\u001b[1;32m   1703\u001b[0m     \u001b[38;5;28;01mif\u001b[39;00m \u001b[38;5;124m\"\u001b[39m\u001b[38;5;124mb\u001b[39m\u001b[38;5;124m\"\u001b[39m \u001b[38;5;129;01mnot\u001b[39;00m \u001b[38;5;129;01min\u001b[39;00m mode:\n\u001b[1;32m   1704\u001b[0m         mode \u001b[38;5;241m+\u001b[39m\u001b[38;5;241m=\u001b[39m \u001b[38;5;124m\"\u001b[39m\u001b[38;5;124mb\u001b[39m\u001b[38;5;124m\"\u001b[39m\n\u001b[0;32m-> 1705\u001b[0m \u001b[38;5;28mself\u001b[39m\u001b[38;5;241m.\u001b[39mhandles \u001b[38;5;241m=\u001b[39m get_handle(\n\u001b[1;32m   1706\u001b[0m     f,\n\u001b[1;32m   1707\u001b[0m     mode,\n\u001b[1;32m   1708\u001b[0m     encoding\u001b[38;5;241m=\u001b[39m\u001b[38;5;28mself\u001b[39m\u001b[38;5;241m.\u001b[39moptions\u001b[38;5;241m.\u001b[39mget(\u001b[38;5;124m\"\u001b[39m\u001b[38;5;124mencoding\u001b[39m\u001b[38;5;124m\"\u001b[39m, \u001b[38;5;28;01mNone\u001b[39;00m),\n\u001b[1;32m   1709\u001b[0m     compression\u001b[38;5;241m=\u001b[39m\u001b[38;5;28mself\u001b[39m\u001b[38;5;241m.\u001b[39moptions\u001b[38;5;241m.\u001b[39mget(\u001b[38;5;124m\"\u001b[39m\u001b[38;5;124mcompression\u001b[39m\u001b[38;5;124m\"\u001b[39m, \u001b[38;5;28;01mNone\u001b[39;00m),\n\u001b[1;32m   1710\u001b[0m     memory_map\u001b[38;5;241m=\u001b[39m\u001b[38;5;28mself\u001b[39m\u001b[38;5;241m.\u001b[39moptions\u001b[38;5;241m.\u001b[39mget(\u001b[38;5;124m\"\u001b[39m\u001b[38;5;124mmemory_map\u001b[39m\u001b[38;5;124m\"\u001b[39m, \u001b[38;5;28;01mFalse\u001b[39;00m),\n\u001b[1;32m   1711\u001b[0m     is_text\u001b[38;5;241m=\u001b[39mis_text,\n\u001b[1;32m   1712\u001b[0m     errors\u001b[38;5;241m=\u001b[39m\u001b[38;5;28mself\u001b[39m\u001b[38;5;241m.\u001b[39moptions\u001b[38;5;241m.\u001b[39mget(\u001b[38;5;124m\"\u001b[39m\u001b[38;5;124mencoding_errors\u001b[39m\u001b[38;5;124m\"\u001b[39m, \u001b[38;5;124m\"\u001b[39m\u001b[38;5;124mstrict\u001b[39m\u001b[38;5;124m\"\u001b[39m),\n\u001b[1;32m   1713\u001b[0m     storage_options\u001b[38;5;241m=\u001b[39m\u001b[38;5;28mself\u001b[39m\u001b[38;5;241m.\u001b[39moptions\u001b[38;5;241m.\u001b[39mget(\u001b[38;5;124m\"\u001b[39m\u001b[38;5;124mstorage_options\u001b[39m\u001b[38;5;124m\"\u001b[39m, \u001b[38;5;28;01mNone\u001b[39;00m),\n\u001b[1;32m   1714\u001b[0m )\n\u001b[1;32m   1715\u001b[0m \u001b[38;5;28;01massert\u001b[39;00m \u001b[38;5;28mself\u001b[39m\u001b[38;5;241m.\u001b[39mhandles \u001b[38;5;129;01mis\u001b[39;00m \u001b[38;5;129;01mnot\u001b[39;00m \u001b[38;5;28;01mNone\u001b[39;00m\n\u001b[1;32m   1716\u001b[0m f \u001b[38;5;241m=\u001b[39m \u001b[38;5;28mself\u001b[39m\u001b[38;5;241m.\u001b[39mhandles\u001b[38;5;241m.\u001b[39mhandle\n",
      "File \u001b[0;32m/Applications/Anaconda/anaconda3/lib/python3.11/site-packages/pandas/io/common.py:863\u001b[0m, in \u001b[0;36mget_handle\u001b[0;34m(path_or_buf, mode, encoding, compression, memory_map, is_text, errors, storage_options)\u001b[0m\n\u001b[1;32m    858\u001b[0m \u001b[38;5;28;01melif\u001b[39;00m \u001b[38;5;28misinstance\u001b[39m(handle, \u001b[38;5;28mstr\u001b[39m):\n\u001b[1;32m    859\u001b[0m     \u001b[38;5;66;03m# Check whether the filename is to be opened in binary mode.\u001b[39;00m\n\u001b[1;32m    860\u001b[0m     \u001b[38;5;66;03m# Binary mode does not support 'encoding' and 'newline'.\u001b[39;00m\n\u001b[1;32m    861\u001b[0m     \u001b[38;5;28;01mif\u001b[39;00m ioargs\u001b[38;5;241m.\u001b[39mencoding \u001b[38;5;129;01mand\u001b[39;00m \u001b[38;5;124m\"\u001b[39m\u001b[38;5;124mb\u001b[39m\u001b[38;5;124m\"\u001b[39m \u001b[38;5;129;01mnot\u001b[39;00m \u001b[38;5;129;01min\u001b[39;00m ioargs\u001b[38;5;241m.\u001b[39mmode:\n\u001b[1;32m    862\u001b[0m         \u001b[38;5;66;03m# Encoding\u001b[39;00m\n\u001b[0;32m--> 863\u001b[0m         handle \u001b[38;5;241m=\u001b[39m \u001b[38;5;28mopen\u001b[39m(\n\u001b[1;32m    864\u001b[0m             handle,\n\u001b[1;32m    865\u001b[0m             ioargs\u001b[38;5;241m.\u001b[39mmode,\n\u001b[1;32m    866\u001b[0m             encoding\u001b[38;5;241m=\u001b[39mioargs\u001b[38;5;241m.\u001b[39mencoding,\n\u001b[1;32m    867\u001b[0m             errors\u001b[38;5;241m=\u001b[39merrors,\n\u001b[1;32m    868\u001b[0m             newline\u001b[38;5;241m=\u001b[39m\u001b[38;5;124m\"\u001b[39m\u001b[38;5;124m\"\u001b[39m,\n\u001b[1;32m    869\u001b[0m         )\n\u001b[1;32m    870\u001b[0m     \u001b[38;5;28;01melse\u001b[39;00m:\n\u001b[1;32m    871\u001b[0m         \u001b[38;5;66;03m# Binary mode\u001b[39;00m\n\u001b[1;32m    872\u001b[0m         handle \u001b[38;5;241m=\u001b[39m \u001b[38;5;28mopen\u001b[39m(handle, ioargs\u001b[38;5;241m.\u001b[39mmode)\n",
      "\u001b[0;31mFileNotFoundError\u001b[0m: [Errno 2] No such file or directory: 'Documents/Python_Projects/EmotionDetection/GoEmotions.ipynb/train.tsv'"
     ]
    }
   ],
   "source": [
    "# Define the path to the dataset directory\n",
    "goemotions_path = \"Documents/Python_Projects/EmotionDetection/GoEmotions.ipynb\"\n",
    "\n",
    "# Load the training data\n",
    "train_df = pd.read_csv(f\"{goemotions_path}/train.tsv\", delimiter=\"\\t\", header=None, names=[\"Comment\", \"Class\", \"Delete\"])\n",
    "# Load the test data\n",
    "test_df = pd.read_csv(f\"{goemotions_path}/test.tsv\", delimiter=\"\\t\", header=None, names=[\"Comment\", \"Class\", \"Delete\"])\n",
    "# Load the validation data\n",
    "validation_df = pd.read_csv(f\"{goemotions_path}/dev.tsv\", delimiter=\"\\t\", header=None, names=[\"Comment\", \"Class\", \"Delete\"])"
   ]
  },
  {
   "cell_type": "markdown",
   "id": "a36cd405-d42f-4839-b486-037cdbc3b3e6",
   "metadata": {},
   "source": [
    "GoEmotions is a dataset with 58000 Reddit comments labeled with 28 emotions:\n",
    "\n",
    "admiration, amusement, anger, annoyance, approval, caring, confusion, curiosity, desire, disappointment, disapproval, disgust, embarrassment, excitement, fear, gratitude, grief, joy, love, nervousness, optimism, pride, realization, relief, remorse, sadness, surprise + neutral"
   ]
  },
  {
   "cell_type": "code",
   "execution_count": 4,
   "id": "08163b86-22fa-4a6d-896d-8f74a04da949",
   "metadata": {},
   "outputs": [
    {
     "data": {
      "text/html": [
       "<div>\n",
       "<style scoped>\n",
       "    .dataframe tbody tr th:only-of-type {\n",
       "        vertical-align: middle;\n",
       "    }\n",
       "\n",
       "    .dataframe tbody tr th {\n",
       "        vertical-align: top;\n",
       "    }\n",
       "\n",
       "    .dataframe thead th {\n",
       "        text-align: right;\n",
       "    }\n",
       "</style>\n",
       "<table border=\"1\" class=\"dataframe\">\n",
       "  <thead>\n",
       "    <tr style=\"text-align: right;\">\n",
       "      <th></th>\n",
       "      <th>Comment</th>\n",
       "      <th>Class</th>\n",
       "      <th>Delete</th>\n",
       "    </tr>\n",
       "  </thead>\n",
       "  <tbody>\n",
       "    <tr>\n",
       "      <th>0</th>\n",
       "      <td>My favourite food is anything I didn't have to...</td>\n",
       "      <td>27</td>\n",
       "      <td>eebbqej</td>\n",
       "    </tr>\n",
       "    <tr>\n",
       "      <th>1</th>\n",
       "      <td>Now if he does off himself, everyone will thin...</td>\n",
       "      <td>27</td>\n",
       "      <td>ed00q6i</td>\n",
       "    </tr>\n",
       "    <tr>\n",
       "      <th>2</th>\n",
       "      <td>WHY THE FUCK IS BAYLESS ISOING</td>\n",
       "      <td>2</td>\n",
       "      <td>eezlygj</td>\n",
       "    </tr>\n",
       "    <tr>\n",
       "      <th>3</th>\n",
       "      <td>To make her feel threatened</td>\n",
       "      <td>14</td>\n",
       "      <td>ed7ypvh</td>\n",
       "    </tr>\n",
       "    <tr>\n",
       "      <th>4</th>\n",
       "      <td>Dirty Southern Wankers</td>\n",
       "      <td>3</td>\n",
       "      <td>ed0bdzj</td>\n",
       "    </tr>\n",
       "    <tr>\n",
       "      <th>...</th>\n",
       "      <td>...</td>\n",
       "      <td>...</td>\n",
       "      <td>...</td>\n",
       "    </tr>\n",
       "    <tr>\n",
       "      <th>43405</th>\n",
       "      <td>Added you mate well I’ve just got the bow and ...</td>\n",
       "      <td>18</td>\n",
       "      <td>edsb738</td>\n",
       "    </tr>\n",
       "    <tr>\n",
       "      <th>43406</th>\n",
       "      <td>Always thought that was funny but is it a refe...</td>\n",
       "      <td>6</td>\n",
       "      <td>ee7fdou</td>\n",
       "    </tr>\n",
       "    <tr>\n",
       "      <th>43407</th>\n",
       "      <td>What are you talking about? Anything bad that ...</td>\n",
       "      <td>3</td>\n",
       "      <td>efgbhks</td>\n",
       "    </tr>\n",
       "    <tr>\n",
       "      <th>43408</th>\n",
       "      <td>More like a baptism, with sexy results!</td>\n",
       "      <td>13</td>\n",
       "      <td>ed1naf8</td>\n",
       "    </tr>\n",
       "    <tr>\n",
       "      <th>43409</th>\n",
       "      <td>Enjoy the ride!</td>\n",
       "      <td>17</td>\n",
       "      <td>eecwmbq</td>\n",
       "    </tr>\n",
       "  </tbody>\n",
       "</table>\n",
       "<p>43410 rows × 3 columns</p>\n",
       "</div>"
      ],
      "text/plain": [
       "                                                 Comment Class   Delete\n",
       "0      My favourite food is anything I didn't have to...    27  eebbqej\n",
       "1      Now if he does off himself, everyone will thin...    27  ed00q6i\n",
       "2                         WHY THE FUCK IS BAYLESS ISOING     2  eezlygj\n",
       "3                            To make her feel threatened    14  ed7ypvh\n",
       "4                                 Dirty Southern Wankers     3  ed0bdzj\n",
       "...                                                  ...   ...      ...\n",
       "43405  Added you mate well I’ve just got the bow and ...    18  edsb738\n",
       "43406  Always thought that was funny but is it a refe...     6  ee7fdou\n",
       "43407  What are you talking about? Anything bad that ...     3  efgbhks\n",
       "43408            More like a baptism, with sexy results!    13  ed1naf8\n",
       "43409                                    Enjoy the ride!    17  eecwmbq\n",
       "\n",
       "[43410 rows x 3 columns]"
      ]
     },
     "execution_count": 4,
     "metadata": {},
     "output_type": "execute_result"
    }
   ],
   "source": [
    "train_df "
   ]
  },
  {
   "cell_type": "code",
   "execution_count": 14,
   "id": "de22283a-4b2a-4652-8dd5-36b6cf611b14",
   "metadata": {},
   "outputs": [],
   "source": [
    "# dropping the \"Delete\" column\n",
    "train_data = train_df.drop(\"Delete\", axis=1)\n",
    "test_data = test_df.drop(\"Delete\", axis=1)\n",
    "val_data = validation_df.drop(\"Delete\", axis=1)"
   ]
  },
  {
   "cell_type": "code",
   "execution_count": 6,
   "id": "567c4b7c-64d2-4b9b-93e3-2a233b7887e5",
   "metadata": {},
   "outputs": [
    {
     "name": "stdout",
     "output_type": "stream",
     "text": [
      "(43410, 2)\n",
      "(5427, 2)\n",
      "(5426, 2)\n"
     ]
    }
   ],
   "source": [
    "print(train_data.shape)\n",
    "print(test_data.shape)\n",
    "print(val_data.shape)"
   ]
  },
  {
   "cell_type": "code",
   "execution_count": 7,
   "id": "36f2652d-0073-42af-bdee-5bd258b829ec",
   "metadata": {},
   "outputs": [
    {
     "data": {
      "text/html": [
       "<div>\n",
       "<style scoped>\n",
       "    .dataframe tbody tr th:only-of-type {\n",
       "        vertical-align: middle;\n",
       "    }\n",
       "\n",
       "    .dataframe tbody tr th {\n",
       "        vertical-align: top;\n",
       "    }\n",
       "\n",
       "    .dataframe thead th {\n",
       "        text-align: right;\n",
       "    }\n",
       "</style>\n",
       "<table border=\"1\" class=\"dataframe\">\n",
       "  <thead>\n",
       "    <tr style=\"text-align: right;\">\n",
       "      <th></th>\n",
       "      <th>Comment</th>\n",
       "      <th>Class</th>\n",
       "    </tr>\n",
       "  </thead>\n",
       "  <tbody>\n",
       "    <tr>\n",
       "      <th>0</th>\n",
       "      <td>My favourite food is anything I didn't have to...</td>\n",
       "      <td>27</td>\n",
       "    </tr>\n",
       "    <tr>\n",
       "      <th>1</th>\n",
       "      <td>Now if he does off himself, everyone will thin...</td>\n",
       "      <td>27</td>\n",
       "    </tr>\n",
       "    <tr>\n",
       "      <th>2</th>\n",
       "      <td>WHY THE FUCK IS BAYLESS ISOING</td>\n",
       "      <td>2</td>\n",
       "    </tr>\n",
       "    <tr>\n",
       "      <th>3</th>\n",
       "      <td>To make her feel threatened</td>\n",
       "      <td>14</td>\n",
       "    </tr>\n",
       "    <tr>\n",
       "      <th>4</th>\n",
       "      <td>Dirty Southern Wankers</td>\n",
       "      <td>3</td>\n",
       "    </tr>\n",
       "  </tbody>\n",
       "</table>\n",
       "</div>"
      ],
      "text/plain": [
       "                                             Comment Class\n",
       "0  My favourite food is anything I didn't have to...    27\n",
       "1  Now if he does off himself, everyone will thin...    27\n",
       "2                     WHY THE FUCK IS BAYLESS ISOING     2\n",
       "3                        To make her feel threatened    14\n",
       "4                             Dirty Southern Wankers     3"
      ]
     },
     "execution_count": 7,
     "metadata": {},
     "output_type": "execute_result"
    }
   ],
   "source": [
    "train_data.head()"
   ]
  },
  {
   "cell_type": "code",
   "execution_count": 8,
   "id": "942113ef-b77c-45ec-931c-6098d4646be9",
   "metadata": {},
   "outputs": [
    {
     "name": "stdout",
     "output_type": "stream",
     "text": [
      "<class 'pandas.core.frame.DataFrame'>\n",
      "RangeIndex: 43410 entries, 0 to 43409\n",
      "Data columns (total 2 columns):\n",
      " #   Column   Non-Null Count  Dtype \n",
      "---  ------   --------------  ----- \n",
      " 0   Comment  43410 non-null  object\n",
      " 1   Class    43410 non-null  object\n",
      "dtypes: object(2)\n",
      "memory usage: 678.4+ KB\n"
     ]
    }
   ],
   "source": [
    "train_data.info()"
   ]
  },
  {
   "cell_type": "markdown",
   "id": "bc609b7a-6086-4b3f-a836-182831067f99",
   "metadata": {},
   "source": [
    "# Multiple Emotion Labels:\n",
    "In the dataset, some comments are associated with multiple emotion labels, which are separated by commas in the \"Class\" column. To handle this, we create a \"Class list\" column by splitting the \"Class\" column string values into lists. This allows us to treat each comment's multiple labels as a list of labels, making it easier to analyze and manipulate the data."
   ]
  },
  {
   "cell_type": "code",
   "execution_count": 15,
   "id": "4f8ad0da-ef10-4b86-8025-9bb383afb9ae",
   "metadata": {},
   "outputs": [],
   "source": [
    "# Create a new column \"Class list\" by splitting the \"Class\" column strings at each comma\n",
    "train_df[\"Class list\"] = train_df[\"Class\"].apply(lambda x: x.split(\",\"))\n",
    "# Create a new column \"Class len\" that contains the length of each list in the \"Class list\" column\n",
    "train_df[\"Class len\"] = train_df[\"Class list\"].apply(lambda x: len(x))\n",
    "\n",
    "# Repeat the same process for the test data\n",
    "test_df[\"Class list\"] = test_df[\"Class\"].apply(lambda x: x.split(\",\"))\n",
    "test_df[\"Class len\"] = test_df[\"Class list\"].apply(lambda x: len(x))\n",
    "\n",
    "# Repeat the same process for the validation data\n",
    "validation_df[\"Class list\"] = validation_df[\"Class\"].apply(lambda x: x.split(\",\"))\n",
    "validation_df[\"Class len\"] = validation_df[\"Class list\"].apply(lambda x: len(x))"
   ]
  },
  {
   "cell_type": "code",
   "execution_count": 16,
   "id": "61a9c1ce-5ce3-4daf-be98-c246a652c552",
   "metadata": {},
   "outputs": [],
   "source": [
    "# Filter rows where \"Class len\" is greater than 1\n",
    "train_multiple_emotions = train_df[train_df[\"Class len\"] > 1]\n",
    "test_multiple_emotions = test_df[test_df[\"Class len\"] > 1]\n",
    "validation_multiple_emotions = validation_df[validation_df[\"Class len\"] > 1]"
   ]
  },
  {
   "cell_type": "code",
   "execution_count": 17,
   "id": "4d6efeb5-375f-4c50-88af-e9231e060cdd",
   "metadata": {
    "scrolled": true
   },
   "outputs": [
    {
     "name": "stdout",
     "output_type": "stream",
     "text": [
      "Training Data - Rows with Multiple Emotion Labels:\n",
      "                                                 Comment   Class   Delete  \\\n",
      "7      We need more boards and to create a bit more s...    8,20  ef4qmod   \n",
      "11     Aww... she'll probably come around eventually,...     1,4  edex4ki   \n",
      "15     Shit, I guess I accidentally bought a Pay-Per-...    3,12  edivtm3   \n",
      "19     Maybe that’s what happened to the great white ...    6,22  eczq8zg   \n",
      "20     I never thought it was at the same moment, but...  6,9,27  efdlhs1   \n",
      "...                                                  ...     ...      ...   \n",
      "43382   goat handshake denied Personally, I just thin...   14,27  ef2m53x   \n",
      "43383                                     it's horrid :/   14,27  edlbr3j   \n",
      "43388  Fuck these trendy hipster joints. Give me my s...     2,3  ee3nyiy   \n",
      "43395  Sorry I kind of took it like you were flexing ...    1,24  eelhhzc   \n",
      "43404  Your paranoia over it seems schizophrenic to m...    7,27  ef8ymm9   \n",
      "\n",
      "       Class list  Class len  \n",
      "7         [8, 20]          2  \n",
      "11         [1, 4]          2  \n",
      "15        [3, 12]          2  \n",
      "19        [6, 22]          2  \n",
      "20     [6, 9, 27]          3  \n",
      "...           ...        ...  \n",
      "43382    [14, 27]          2  \n",
      "43383    [14, 27]          2  \n",
      "43388      [2, 3]          2  \n",
      "43395     [1, 24]          2  \n",
      "43404     [7, 27]          2  \n",
      "\n",
      "[7102 rows x 5 columns]\n"
     ]
    }
   ],
   "source": [
    "# Display the rows with multiple emotion labels in the training data\n",
    "print(\"Training Data - Rows with Multiple Emotion Labels:\")\n",
    "print(train_multiple_emotions)"
   ]
  },
  {
   "cell_type": "code",
   "execution_count": 18,
   "id": "8b69eabb-1a33-42be-9c23-360a56e211ec",
   "metadata": {},
   "outputs": [
    {
     "name": "stdout",
     "output_type": "stream",
     "text": [
      "\n",
      "Test Data - Rows with Multiple Emotion Labels:\n",
      "                                                Comment  Class   Delete  \\\n",
      "10    [NAME] has towed the line of the Dark Side. He...   3,10  eeaf7fg   \n",
      "11            Lol! But I love your last name though. XD   1,18  ee3yyz3   \n",
      "13    It's great that you're a recovering addict, th...    0,7  eeccgbb   \n",
      "17    if the pain doesn't go away after 4 hours or s...  25,27  eezp1cd   \n",
      "24    Watch Vegan Gains’ video on that, he had it wh...   6,27  ednoz16   \n",
      "...                                                 ...    ...      ...   \n",
      "5404  Hahaha so I’m no longer going to worry about i...   1,20  eevy72t   \n",
      "5413  This will be me a year from now. Not fair at all.  10,12  eebo774   \n",
      "5414  I know, right?! I was literally in tears Satur...   7,25  eepx8q5   \n",
      "5415            They are children, they have no souls.     4,5  eeqrhdo   \n",
      "5419  My mom works for Nasa and apparently no. They ...   1,11  edklt4j   \n",
      "\n",
      "     Class list  Class len  \n",
      "10      [3, 10]          2  \n",
      "11      [1, 18]          2  \n",
      "13       [0, 7]          2  \n",
      "17     [25, 27]          2  \n",
      "24      [6, 27]          2  \n",
      "...         ...        ...  \n",
      "5404    [1, 20]          2  \n",
      "5413   [10, 12]          2  \n",
      "5414    [7, 25]          2  \n",
      "5415     [4, 5]          2  \n",
      "5419    [1, 11]          2  \n",
      "\n",
      "[837 rows x 5 columns]\n"
     ]
    }
   ],
   "source": [
    "# Display the rows with multiple emotion labels in the test data\n",
    "print(\"\\nTest Data - Rows with Multiple Emotion Labels:\")\n",
    "print(test_multiple_emotions)"
   ]
  },
  {
   "cell_type": "code",
   "execution_count": 19,
   "id": "0a10b1b0-6e0f-4861-b4a7-52483402a808",
   "metadata": {},
   "outputs": [
    {
     "name": "stdout",
     "output_type": "stream",
     "text": [
      "\n",
      "Validation Data - Rows with Multiple Emotion Labels:\n",
      "                                                Comment   Class   Delete  \\\n",
      "1     You know the answer man, you are programmed to...    4,27  ee84bjg   \n",
      "3     The economy is heavily controlled and subsidiz...    4,27  edc32e2   \n",
      "11    I went to a destination wedding being the only...   12,22  eczyj0h   \n",
      "14    Lol dream on buddy. You’ve had enough attentio...  1,3,25  ed2znun   \n",
      "15    As an anesthesia resident this made me blow ai...     2,3  ee2piwu   \n",
      "...                                                 ...     ...      ...   \n",
      "5395  Great cover of my favorite song. I loved watch...    0,18  edwugs8   \n",
      "5399                                   Damn this got me    3,27  ef18buu   \n",
      "5401                                  cool... Sorry bro   24,25  ee3v5ip   \n",
      "5405       Very very nice to see this irl. Nice post 👌🏼     0,4  eddgqs7   \n",
      "5413  Yup! She was also on a show called Queen Bees ...     4,7  efak8me   \n",
      "\n",
      "      Class list  Class len  \n",
      "1        [4, 27]          2  \n",
      "3        [4, 27]          2  \n",
      "11      [12, 22]          2  \n",
      "14    [1, 3, 25]          3  \n",
      "15        [2, 3]          2  \n",
      "...          ...        ...  \n",
      "5395     [0, 18]          2  \n",
      "5399     [3, 27]          2  \n",
      "5401    [24, 25]          2  \n",
      "5405      [0, 4]          2  \n",
      "5413      [4, 7]          2  \n",
      "\n",
      "[878 rows x 5 columns]\n"
     ]
    }
   ],
   "source": [
    "# Display the rows with multiple emotion labels in the validation data\n",
    "print(\"\\nValidation Data - Rows with Multiple Emotion Labels:\")\n",
    "print(validation_multiple_emotions)"
   ]
  },
  {
   "cell_type": "markdown",
   "id": "8e9647eb-ac6b-47ed-a7e1-4d418f823297",
   "metadata": {},
   "source": [
    "# Ekman’s Basic Emotions:\n",
    "As mentioned above, GoEmotions uses 27 emotions to annotate Reddit comments. We are going to map these emotions to Ekman's 6 basic emotion categories: joy, anger, fear, sadness, disgust, and surprise"
   ]
  },
  {
   "cell_type": "code",
   "execution_count": 25,
   "id": "4094f4a3-5ef8-4228-afd7-c3285e3355c7",
   "metadata": {},
   "outputs": [
    {
     "name": "stdout",
     "output_type": "stream",
     "text": [
      "{'anger': ['anger', 'annoyance', 'disapproval'], 'disgust': ['disgust'], 'fear': ['fear', 'nervousness'], 'joy': ['joy', 'amusement', 'approval', 'excitement', 'gratitude', 'love', 'optimism', 'relief', 'pride', 'admiration', 'desire', 'caring'], 'sadness': ['sadness', 'disappointment', 'embarrassment', 'grief', 'remorse'], 'surprise': ['surprise', 'realization', 'confusion', 'curiosity']}\n"
     ]
    }
   ],
   "source": [
    "# Load the Ekman mapping JSON file\n",
    "with open(\"Documents/Python_Projects/EmotionDetection/MainProject/ekman_mapping.json\") as file:\n",
    "    ekman_mapping = json.load(file)\n",
    "\n",
    "# Display the loaded JSON data\n",
    "print(ekman_mapping)"
   ]
  },
  {
   "cell_type": "code",
   "execution_count": 26,
   "id": "0116bf9d-6ef7-4abc-b407-5a4033968d0c",
   "metadata": {},
   "outputs": [
    {
     "name": "stdout",
     "output_type": "stream",
     "text": [
      "['admiration', 'amusement', 'anger', 'annoyance', 'approval', 'caring', 'confusion', 'curiosity', 'desire', 'disappointment', 'disapproval', 'disgust', 'embarrassment', 'excitement', 'fear', 'gratitude', 'grief', 'joy', 'love', 'nervousness', 'optimism', 'pride', 'realization', 'relief', 'remorse', 'sadness', 'surprise', 'neutral']\n",
      "28\n"
     ]
    }
   ],
   "source": [
    "emotion_file = open(\"Documents/Python_Projects/EmotionDetection/MainProject/emotions.txt\", \"r\")\n",
    "emotion_list = emotion_file.read()\n",
    "emotion_list = emotion_list.split(\"\\n\")\n",
    "print(emotion_list)\n",
    "print(len(emotion_list))"
   ]
  },
  {
   "cell_type": "code",
   "execution_count": 27,
   "id": "b2c7f94a-43b5-48c6-ba3f-cfead210a9d2",
   "metadata": {},
   "outputs": [],
   "source": [
    "def idx2class(idxlist):\n",
    "    arr = []\n",
    "    for i in idxlist:\n",
    "        arr.append(emotion_list[int(i)])\n",
    "    return arr"
   ]
  },
  {
   "cell_type": "code",
   "execution_count": 28,
   "id": "21662004-f004-4782-8ed4-36c735cf0775",
   "metadata": {},
   "outputs": [],
   "source": [
    "# Converting the class indexes back to class names\n",
    "train_data[\"Emotion\"] = train_data[\"Class list\"].apply(idx2class)\n",
    "test_data[\"Emotion\"] = test_data[\"Class list\"].apply(idx2class)\n",
    "val_data[\"Emotion\"] = val_data[\"Class list\"].apply(idx2class)"
   ]
  },
  {
   "cell_type": "code",
   "execution_count": 29,
   "id": "c02bc2c6-de00-497a-919e-156c097e9e00",
   "metadata": {},
   "outputs": [],
   "source": [
    "def EmotionMapping(emotion_list):\n",
    "    map_list = []\n",
    "    \n",
    "    for i in emotion_list:\n",
    "        if i in ekman_mapping[\"anger\"]:\n",
    "            map_list.append(\"anger\")\n",
    "        if i in ekman_mapping[\"disgust\"]:\n",
    "            map_list.append(\"disgust\")\n",
    "        if i in ekman_mapping[\"fear\"]:\n",
    "            map_list.append(\"fear\")\n",
    "        if i in ekman_mapping[\"joy\"]:\n",
    "            map_list.append(\"joy\")\n",
    "        if i in ekman_mapping[\"sadness\"]:\n",
    "            map_list.append(\"sadness\")\n",
    "        if i in ekman_mapping[\"surprise\"]:\n",
    "            map_list.append(\"surprise\")\n",
    "        if i == \"neutral\":\n",
    "            map_list.append(\"neutral\")\n",
    "            \n",
    "    return map_list"
   ]
  },
  {
   "cell_type": "code",
   "execution_count": 30,
   "id": "f20364c2-697b-4798-8c34-bd35eafd6f46",
   "metadata": {},
   "outputs": [],
   "source": [
    "# Convert the classes based on Ekman Taxonomy\n",
    "train_data[\"Mapped_emotion\"] = train_data[\"Emotion\"].apply(EmotionMapping)\n",
    "test_data[\"Mapped_emotion\"] = test_data[\"Emotion\"].apply(EmotionMapping)\n",
    "val_data[\"Mapped_emotion\"] = val_data[\"Emotion\"].apply(EmotionMapping)"
   ]
  },
  {
   "cell_type": "code",
   "execution_count": 31,
   "id": "e9f4a24e-d553-4bce-8916-19a628df3898",
   "metadata": {},
   "outputs": [],
   "source": [
    "train_data[\"Mapped_emotion\"] = train_data[\"Mapped_emotion\"].apply(lambda x: ','.join(x))\n",
    "test_data[\"Mapped_emotion\"] = test_data[\"Mapped_emotion\"].apply(lambda x: ','.join(x))\n",
    "val_data[\"Mapped_emotion\"] = val_data[\"Mapped_emotion\"].apply(lambda x: ','.join(x))"
   ]
  },
  {
   "cell_type": "code",
   "execution_count": 32,
   "id": "5f4556c6-c666-4c4a-a8e9-cff80963f251",
   "metadata": {},
   "outputs": [],
   "source": [
    "train_data = train_data.drop([\"Class\", \"Class list\", \"Class len\", \"Emotion\"], axis=1)\n",
    "test_data = test_data.drop([\"Class\", \"Class list\", \"Class len\", \"Emotion\"], axis=1)\n",
    "val_data = val_data.drop([\"Class\", \"Class list\", \"Class len\", \"Emotion\"], axis=1)"
   ]
  },
  {
   "cell_type": "code",
   "execution_count": 33,
   "id": "937d6942-e77a-41d5-bd2c-355b40867993",
   "metadata": {},
   "outputs": [],
   "source": [
    "train_data_1= train_data[\"Mapped_emotion\"].str.split(\",\", expand=True)\n",
    "test_data_1= test_data[\"Mapped_emotion\"].str.split(\",\", expand=True)\n",
    "val_data_1= val_data[\"Mapped_emotion\"].str.split(\",\", expand=True)"
   ]
  },
  {
   "cell_type": "code",
   "execution_count": 34,
   "id": "df5d3ce6-cb2f-4fc8-9fec-75a133581fbd",
   "metadata": {},
   "outputs": [],
   "source": [
    "train_data_1.drop(train_data_1.columns[1:5], axis=1, inplace=True)\n",
    "test_data_1.drop(test_data_1.columns[1:5], axis=1, inplace=True)\n",
    "val_data_1.drop(val_data_1.columns[1:5], axis=1, inplace=True)"
   ]
  },
  {
   "cell_type": "code",
   "execution_count": 35,
   "id": "b4ed3b03-3169-4b15-b94c-27c59d3afbe1",
   "metadata": {},
   "outputs": [],
   "source": [
    "train_data = pd.concat([train_data, train_data_1], axis=1)\n",
    "test_data = pd.concat([test_data, test_data_1], axis=1)\n",
    "val_data = pd.concat([val_data, val_data_1], axis=1)"
   ]
  },
  {
   "cell_type": "code",
   "execution_count": 36,
   "id": "e6cc45ad-b710-46a7-8032-c223bed1b278",
   "metadata": {},
   "outputs": [],
   "source": [
    "train_data.rename(columns={0: \"Emotion\"}, inplace=True)\n",
    "test_data.rename(columns={0: \"Emotion\"}, inplace=True)\n",
    "val_data.rename(columns={0: \"Emotion\"}, inplace=True)"
   ]
  },
  {
   "cell_type": "code",
   "execution_count": 37,
   "id": "fdb25fa1-9b61-4653-8091-5e9cb93210ee",
   "metadata": {},
   "outputs": [],
   "source": [
    "train_data = train_data.drop([\"Mapped_emotion\"], axis=1)\n",
    "test_data = test_data.drop([\"Mapped_emotion\"], axis=1)\n",
    "val_data = val_data.drop([\"Mapped_emotion\"], axis=1)"
   ]
  },
  {
   "cell_type": "code",
   "execution_count": 38,
   "id": "a02a0946-ad23-4812-bdcb-7c85aab2d771",
   "metadata": {},
   "outputs": [
    {
     "data": {
      "text/plain": [
       "Emotion\n",
       "joy         16948\n",
       "neutral     12823\n",
       "anger        5336\n",
       "surprise     4489\n",
       "sadness      2619\n",
       "fear          615\n",
       "disgust       580\n",
       "Name: count, dtype: int64"
      ]
     },
     "execution_count": 38,
     "metadata": {},
     "output_type": "execute_result"
    }
   ],
   "source": [
    "#Checking if the data is balanced or not\n",
    "train_data.Emotion.value_counts()"
   ]
  },
  {
   "cell_type": "code",
   "execution_count": 39,
   "id": "0a25b02f-81c0-403a-921c-697069011d8c",
   "metadata": {},
   "outputs": [
    {
     "data": {
      "text/html": [
       "<div>\n",
       "<style scoped>\n",
       "    .dataframe tbody tr th:only-of-type {\n",
       "        vertical-align: middle;\n",
       "    }\n",
       "\n",
       "    .dataframe tbody tr th {\n",
       "        vertical-align: top;\n",
       "    }\n",
       "\n",
       "    .dataframe thead th {\n",
       "        text-align: right;\n",
       "    }\n",
       "</style>\n",
       "<table border=\"1\" class=\"dataframe\">\n",
       "  <thead>\n",
       "    <tr style=\"text-align: right;\">\n",
       "      <th></th>\n",
       "      <th>Comment</th>\n",
       "      <th>Emotion</th>\n",
       "    </tr>\n",
       "  </thead>\n",
       "  <tbody>\n",
       "    <tr>\n",
       "      <th>0</th>\n",
       "      <td>My favourite food is anything I didn't have to...</td>\n",
       "      <td>neutral</td>\n",
       "    </tr>\n",
       "    <tr>\n",
       "      <th>1</th>\n",
       "      <td>Now if he does off himself, everyone will thin...</td>\n",
       "      <td>neutral</td>\n",
       "    </tr>\n",
       "    <tr>\n",
       "      <th>2</th>\n",
       "      <td>WHY THE FUCK IS BAYLESS ISOING</td>\n",
       "      <td>anger</td>\n",
       "    </tr>\n",
       "    <tr>\n",
       "      <th>3</th>\n",
       "      <td>To make her feel threatened</td>\n",
       "      <td>fear</td>\n",
       "    </tr>\n",
       "    <tr>\n",
       "      <th>4</th>\n",
       "      <td>Dirty Southern Wankers</td>\n",
       "      <td>anger</td>\n",
       "    </tr>\n",
       "  </tbody>\n",
       "</table>\n",
       "</div>"
      ],
      "text/plain": [
       "                                             Comment  Emotion\n",
       "0  My favourite food is anything I didn't have to...  neutral\n",
       "1  Now if he does off himself, everyone will thin...  neutral\n",
       "2                     WHY THE FUCK IS BAYLESS ISOING    anger\n",
       "3                        To make her feel threatened     fear\n",
       "4                             Dirty Southern Wankers    anger"
      ]
     },
     "execution_count": 39,
     "metadata": {},
     "output_type": "execute_result"
    }
   ],
   "source": [
    "train_data.head()"
   ]
  },
  {
   "cell_type": "code",
   "execution_count": 40,
   "id": "a5b7569a-853f-4ad8-a172-c39dc7273528",
   "metadata": {},
   "outputs": [],
   "source": [
    "#Removing Duplicated values\n",
    "index = train_data[train_data.duplicated() == True].index\n",
    "train_data.drop(index, axis=0, inplace=True)\n",
    "train_data.reset_index(inplace=True, drop=True)\n",
    "\n",
    "index = test_data[test_data.duplicated() == True].index\n",
    "test_data.drop(index, axis=0, inplace=True)\n",
    "test_data.reset_index(inplace=True, drop=True)\n",
    "\n",
    "index = val_data[val_data.duplicated() == True].index\n",
    "val_data.drop(index, axis=0, inplace=True)\n",
    "val_data.reset_index(inplace=True, drop=True)"
   ]
  },
  {
   "cell_type": "code",
   "execution_count": 41,
   "id": "71b40d5e-774a-4801-a92d-9fb6c4bed602",
   "metadata": {},
   "outputs": [
    {
     "data": {
      "text/html": [
       "<div>\n",
       "<style scoped>\n",
       "    .dataframe tbody tr th:only-of-type {\n",
       "        vertical-align: middle;\n",
       "    }\n",
       "\n",
       "    .dataframe tbody tr th {\n",
       "        vertical-align: top;\n",
       "    }\n",
       "\n",
       "    .dataframe thead th {\n",
       "        text-align: right;\n",
       "    }\n",
       "</style>\n",
       "<table border=\"1\" class=\"dataframe\">\n",
       "  <thead>\n",
       "    <tr style=\"text-align: right;\">\n",
       "      <th></th>\n",
       "      <th>Comment</th>\n",
       "      <th>Emotion</th>\n",
       "    </tr>\n",
       "  </thead>\n",
       "  <tbody>\n",
       "    <tr>\n",
       "      <th>6610</th>\n",
       "      <td>My man!</td>\n",
       "      <td>joy</td>\n",
       "    </tr>\n",
       "    <tr>\n",
       "      <th>7925</th>\n",
       "      <td>What do you mean?</td>\n",
       "      <td>surprise</td>\n",
       "    </tr>\n",
       "    <tr>\n",
       "      <th>8344</th>\n",
       "      <td>Weird flex but okay</td>\n",
       "      <td>joy</td>\n",
       "    </tr>\n",
       "    <tr>\n",
       "      <th>8978</th>\n",
       "      <td>[NAME]</td>\n",
       "      <td>neutral</td>\n",
       "    </tr>\n",
       "    <tr>\n",
       "      <th>9375</th>\n",
       "      <td>Grow up.</td>\n",
       "      <td>anger</td>\n",
       "    </tr>\n",
       "    <tr>\n",
       "      <th>9481</th>\n",
       "      <td>Weird flex but ok</td>\n",
       "      <td>disgust</td>\n",
       "    </tr>\n",
       "    <tr>\n",
       "      <th>14012</th>\n",
       "      <td>You're welcome</td>\n",
       "      <td>neutral</td>\n",
       "    </tr>\n",
       "    <tr>\n",
       "      <th>14104</th>\n",
       "      <td>This is horrible</td>\n",
       "      <td>fear</td>\n",
       "    </tr>\n",
       "    <tr>\n",
       "      <th>15809</th>\n",
       "      <td>Lol no.</td>\n",
       "      <td>joy</td>\n",
       "    </tr>\n",
       "    <tr>\n",
       "      <th>20768</th>\n",
       "      <td>Oh boy yeah</td>\n",
       "      <td>joy</td>\n",
       "    </tr>\n",
       "    <tr>\n",
       "      <th>20785</th>\n",
       "      <td>[NAME]!</td>\n",
       "      <td>neutral</td>\n",
       "    </tr>\n",
       "    <tr>\n",
       "      <th>20866</th>\n",
       "      <td>Weird flex but ok</td>\n",
       "      <td>anger</td>\n",
       "    </tr>\n",
       "    <tr>\n",
       "      <th>22881</th>\n",
       "      <td>A surprise to be sure, but a welcome one.</td>\n",
       "      <td>surprise</td>\n",
       "    </tr>\n",
       "    <tr>\n",
       "      <th>23704</th>\n",
       "      <td>I feel personally attacked.</td>\n",
       "      <td>sadness</td>\n",
       "    </tr>\n",
       "    <tr>\n",
       "      <th>24105</th>\n",
       "      <td>Weird flex but ok</td>\n",
       "      <td>joy</td>\n",
       "    </tr>\n",
       "    <tr>\n",
       "      <th>24275</th>\n",
       "      <td>I don't know</td>\n",
       "      <td>surprise</td>\n",
       "    </tr>\n",
       "    <tr>\n",
       "      <th>25076</th>\n",
       "      <td>That escalated quickly.</td>\n",
       "      <td>surprise</td>\n",
       "    </tr>\n",
       "    <tr>\n",
       "      <th>25353</th>\n",
       "      <td>Yes!!!!</td>\n",
       "      <td>joy</td>\n",
       "    </tr>\n",
       "    <tr>\n",
       "      <th>28886</th>\n",
       "      <td>Cheers, [NAME]!</td>\n",
       "      <td>neutral</td>\n",
       "    </tr>\n",
       "    <tr>\n",
       "      <th>29036</th>\n",
       "      <td>He looks like [NAME]</td>\n",
       "      <td>joy</td>\n",
       "    </tr>\n",
       "    <tr>\n",
       "      <th>31980</th>\n",
       "      <td>That's how mafia works</td>\n",
       "      <td>surprise</td>\n",
       "    </tr>\n",
       "    <tr>\n",
       "      <th>32741</th>\n",
       "      <td>Calm down.</td>\n",
       "      <td>neutral</td>\n",
       "    </tr>\n",
       "    <tr>\n",
       "      <th>37293</th>\n",
       "      <td>Amen to that!</td>\n",
       "      <td>neutral</td>\n",
       "    </tr>\n",
       "    <tr>\n",
       "      <th>37578</th>\n",
       "      <td>Underrated comment.</td>\n",
       "      <td>neutral</td>\n",
       "    </tr>\n",
       "    <tr>\n",
       "      <th>39357</th>\n",
       "      <td>OH MY [NAME]</td>\n",
       "      <td>surprise</td>\n",
       "    </tr>\n",
       "    <tr>\n",
       "      <th>39710</th>\n",
       "      <td>Not even slightly.</td>\n",
       "      <td>neutral</td>\n",
       "    </tr>\n",
       "    <tr>\n",
       "      <th>39842</th>\n",
       "      <td>cool story bro</td>\n",
       "      <td>joy</td>\n",
       "    </tr>\n",
       "    <tr>\n",
       "      <th>40217</th>\n",
       "      <td>You can't be serious.</td>\n",
       "      <td>neutral</td>\n",
       "    </tr>\n",
       "    <tr>\n",
       "      <th>40670</th>\n",
       "      <td>What did he say?</td>\n",
       "      <td>surprise</td>\n",
       "    </tr>\n",
       "    <tr>\n",
       "      <th>40894</th>\n",
       "      <td>Please no.</td>\n",
       "      <td>anger</td>\n",
       "    </tr>\n",
       "    <tr>\n",
       "      <th>41542</th>\n",
       "      <td>This hurts my brain</td>\n",
       "      <td>sadness</td>\n",
       "    </tr>\n",
       "  </tbody>\n",
       "</table>\n",
       "</div>"
      ],
      "text/plain": [
       "                                         Comment   Emotion\n",
       "6610                                     My man!       joy\n",
       "7925                           What do you mean?  surprise\n",
       "8344                         Weird flex but okay       joy\n",
       "8978                                      [NAME]   neutral\n",
       "9375                                    Grow up.     anger\n",
       "9481                           Weird flex but ok   disgust\n",
       "14012                             You're welcome   neutral\n",
       "14104                           This is horrible      fear\n",
       "15809                                    Lol no.       joy\n",
       "20768                                Oh boy yeah       joy\n",
       "20785                                    [NAME]!   neutral\n",
       "20866                          Weird flex but ok     anger\n",
       "22881  A surprise to be sure, but a welcome one.  surprise\n",
       "23704                I feel personally attacked.   sadness\n",
       "24105                          Weird flex but ok       joy\n",
       "24275                               I don't know  surprise\n",
       "25076                    That escalated quickly.  surprise\n",
       "25353                                    Yes!!!!       joy\n",
       "28886                            Cheers, [NAME]!   neutral\n",
       "29036                       He looks like [NAME]       joy\n",
       "31980                     That's how mafia works  surprise\n",
       "32741                                 Calm down.   neutral\n",
       "37293                              Amen to that!   neutral\n",
       "37578                        Underrated comment.   neutral\n",
       "39357                               OH MY [NAME]  surprise\n",
       "39710                         Not even slightly.   neutral\n",
       "39842                             cool story bro       joy\n",
       "40217                      You can't be serious.   neutral\n",
       "40670                           What did he say?  surprise\n",
       "40894                                 Please no.     anger\n",
       "41542                        This hurts my brain   sadness"
      ]
     },
     "execution_count": 41,
     "metadata": {},
     "output_type": "execute_result"
    }
   ],
   "source": [
    "#print rows which are duplicated in the text but the same emotion\n",
    "train_data[train_data[\"Comment\"].duplicated() == True]"
   ]
  },
  {
   "cell_type": "code",
   "execution_count": 42,
   "id": "88cb982e-12a9-42cc-ab68-617464dc90fe",
   "metadata": {},
   "outputs": [
    {
     "data": {
      "text/html": [
       "<div>\n",
       "<style scoped>\n",
       "    .dataframe tbody tr th:only-of-type {\n",
       "        vertical-align: middle;\n",
       "    }\n",
       "\n",
       "    .dataframe tbody tr th {\n",
       "        vertical-align: top;\n",
       "    }\n",
       "\n",
       "    .dataframe thead th {\n",
       "        text-align: right;\n",
       "    }\n",
       "</style>\n",
       "<table border=\"1\" class=\"dataframe\">\n",
       "  <thead>\n",
       "    <tr style=\"text-align: right;\">\n",
       "      <th></th>\n",
       "      <th>Comment</th>\n",
       "      <th>Emotion</th>\n",
       "    </tr>\n",
       "  </thead>\n",
       "  <tbody>\n",
       "  </tbody>\n",
       "</table>\n",
       "</div>"
      ],
      "text/plain": [
       "Empty DataFrame\n",
       "Columns: [Comment, Emotion]\n",
       "Index: []"
      ]
     },
     "execution_count": 42,
     "metadata": {},
     "output_type": "execute_result"
    }
   ],
   "source": [
    "#print rows which are duplicated in the text but the same emotion\n",
    "test_data[test_data[\"Comment\"].duplicated() == True]"
   ]
  },
  {
   "cell_type": "code",
   "execution_count": 43,
   "id": "aba85d97-3196-4ae7-9082-f90512962b69",
   "metadata": {},
   "outputs": [
    {
     "data": {
      "text/html": [
       "<div>\n",
       "<style scoped>\n",
       "    .dataframe tbody tr th:only-of-type {\n",
       "        vertical-align: middle;\n",
       "    }\n",
       "\n",
       "    .dataframe tbody tr th {\n",
       "        vertical-align: top;\n",
       "    }\n",
       "\n",
       "    .dataframe thead th {\n",
       "        text-align: right;\n",
       "    }\n",
       "</style>\n",
       "<table border=\"1\" class=\"dataframe\">\n",
       "  <thead>\n",
       "    <tr style=\"text-align: right;\">\n",
       "      <th></th>\n",
       "      <th>Comment</th>\n",
       "      <th>Emotion</th>\n",
       "    </tr>\n",
       "  </thead>\n",
       "  <tbody>\n",
       "  </tbody>\n",
       "</table>\n",
       "</div>"
      ],
      "text/plain": [
       "Empty DataFrame\n",
       "Columns: [Comment, Emotion]\n",
       "Index: []"
      ]
     },
     "execution_count": 43,
     "metadata": {},
     "output_type": "execute_result"
    }
   ],
   "source": [
    "#print rows which are duplicated in the text but the same emotion\n",
    "test_data[test_data[\"Comment\"].duplicated() == True]"
   ]
  },
  {
   "cell_type": "code",
   "execution_count": 44,
   "id": "dd1e3763-9252-4501-9114-35a2177fbddc",
   "metadata": {},
   "outputs": [],
   "source": [
    "# Removing the duplicate text\n",
    "index = train_data[train_data[\"Comment\"].duplicated() == True].index\n",
    "train_data.drop(index, axis=0, inplace = True)\n",
    "train_data.reset_index(inplace=True, drop=True)"
   ]
  },
  {
   "cell_type": "code",
   "execution_count": 45,
   "id": "c168bfd6-b9ba-4fb9-aff1-88c44f572150",
   "metadata": {},
   "outputs": [],
   "source": [
    "val_data = val_data.drop([22, 23])"
   ]
  },
  {
   "cell_type": "code",
   "execution_count": 46,
   "id": "59eb50b4-931e-4ebe-9219-088a136a0b1b",
   "metadata": {},
   "outputs": [],
   "source": [
    "contraction_mapping = {\"ain't\": \"is not\", \"aren't\": \"are not\",\"can't\": \"cannot\", \"'cause\": \"because\", \"could've\": \"could have\", \"couldn't\": \"could not\", \n",
    "                       \"didn't\": \"did not\",  \"doesn't\": \"does not\", \"don't\": \"do not\", \"hadn't\": \"had not\", \"hasn't\": \"has not\", \"haven't\": \"have not\", \n",
    "                       \"he'd\": \"he would\",\"he'll\": \"he will\", \"he's\": \"he is\", \"how'd\": \"how did\", \"how'd'y\": \"how do you\", \"how'll\": \"how will\", \n",
    "                       \"how's\": \"how is\",  \"I'd\": \"I would\", \"I'd've\": \"I would have\", \"I'll\": \"I will\", \"I'll've\": \"I will have\",\"I'm\": \"I am\",\n",
    "                       \"I've\": \"I have\", \"i'd\": \"i would\", \"i'd've\": \"i would have\", \"i'll\": \"i will\",  \"i'll've\": \"i will have\",\"i'm\": \"i am\", \n",
    "                       \"i've\": \"i have\", \"isn't\": \"is not\", \"it'd\": \"it would\", \"it'd've\": \"it would have\", \"it'll\": \"it will\", \"it'll've\": \"it will have\",\n",
    "                       \"it's\": \"it is\", \"let's\": \"let us\", \"ma'am\": \"madam\", \"mayn't\": \"may not\", \"might've\": \"might have\",\"mightn't\": \"might not\",\n",
    "                       \"mightn't've\": \"might not have\", \"must've\": \"must have\", \"mustn't\": \"must not\", \"mustn't've\": \"must not have\", \"needn't\": \"need not\", \n",
    "                       \"needn't've\": \"need not have\",\"o'clock\": \"of the clock\", \"oughtn't\": \"ought not\", \"oughtn't've\": \"ought not have\", \"shan't\": \"shall not\",\n",
    "                       \"sha'n't\": \"shall not\", \"shan't've\": \"shall not have\", \"she'd\": \"she would\", \"she'd've\": \"she would have\", \"she'll\": \"she will\", \n",
    "                       \"she'll've\": \"she will have\", \"she's\": \"she is\", \"should've\": \"should have\", \"shouldn't\": \"should not\", \"shouldn't've\": \"should not have\",\n",
    "                       \"so've\": \"so have\",\"so's\": \"so as\", \"this's\": \"this is\",\"that'd\": \"that would\", \"that'd've\": \"that would have\", \"that's\": \"that is\",\n",
    "                       \"there'd\": \"there would\", \"there'd've\": \"there would have\", \"there's\": \"there is\", \"here's\": \"here is\",\"they'd\": \"they would\",\n",
    "                       \"they'd've\": \"they would have\", \"they'll\": \"they will\", \"they'll've\": \"they will have\", \"they're\": \"they are\", \"they've\": \"they have\",\n",
    "                       \"to've\": \"to have\", \"wasn't\": \"was not\", \"we'd\": \"we would\", \"we'd've\": \"we would have\", \"we'll\": \"we will\", \"we'll've\": \"we will have\",\n",
    "                       \"we're\": \"we are\", \"we've\": \"we have\", \"weren't\": \"were not\", \"what'll\": \"what will\", \"what'll've\": \"what will have\", \n",
    "                       \"what're\": \"what are\",  \"what's\": \"what is\", \"what've\": \"what have\", \"when's\": \"when is\", \"when've\": \"when have\", \"where'd\": \"where did\",\n",
    "                       \"where's\": \"where is\", \"where've\": \"where have\", \"who'll\": \"who will\", \"who'll've\": \"who will have\", \"who's\": \"who is\", \n",
    "                       \"who've\": \"who have\", \"why's\": \"why is\", \"why've\": \"why have\", \"will've\": \"will have\", \"won't\": \"will not\", \"won't've\": \"will not have\", \n",
    "                       \"would've\": \"would have\", \"wouldn't\": \"would not\", \"wouldn't've\": \"would not have\", \"y'all\": \"you all\", \"y'all'd\": \"you all would\",\n",
    "                       \"y'all'd've\": \"you all would have\",\"y'all're\": \"you all are\",\"y'all've\": \"you all have\",\"you'd\": \"you would\", \"you'd've\": \"you would have\",\n",
    "                       \"you'll\": \"you will\", \"you'll've\": \"you will have\", \"you're\": \"you are\", \"you've\": \"you have\", 'u.s':'america', 'e.g':'for example'}\n",
    "\n",
    "punct = [',', '.', '\"', ':', ')', '(', '-', '!', '?', '|', ';', \"'\", '$', '&', '/', '[', ']', '>', '%', '=', '#', '*', '+', '\\\\', '•',  '~', '@', '£', \n",
    " '·', '_', '{', '}', '©', '^', '®', '`',  '<', '→', '°', '€', '™', '›',  '♥', '←', '×', '§', '″', '′', 'Â', '█', '½', 'à', '…', \n",
    " '“', '★', '”', '–', '●', 'â', '►', '−', '¢', '²', '¬', '░', '¶', '↑', '±', '¿', '▾', '═', '¦', '║', '―', '¥', '▓', '—', '‹', '─', \n",
    " '▒', '：', '¼', '⊕', '▼', '▪', '†', '■', '’', '▀', '¨', '▄', '♫', '☆', 'é', '¯', '♦', '¤', '▲', 'è', '¸', '¾', 'Ã', '⋅', '‘', '∞', \n",
    " '∙', '）', '↓', '、', '│', '（', '»', '，', '♪', '╩', '╚', '³', '・', '╦', '╣', '╔', '╗', '▬', '❤', 'ï', 'Ø', '¹', '≤', '‡', '√', ]\n",
    "\n",
    "punct_mapping = {\"‘\": \"'\", \"₹\": \"e\", \"´\": \"'\", \"°\": \"\", \"€\": \"e\", \"™\": \"tm\", \"√\": \" sqrt \", \"×\": \"x\", \"²\": \"2\", \"—\": \"-\", \"–\": \"-\", \"’\": \"'\", \"_\": \"-\",\n",
    "                 \"`\": \"'\", '“': '\"', '”': '\"', '“': '\"', \"£\": \"e\", '∞': 'infinity', 'θ': 'theta', '÷': '/', 'α': 'alpha', '•': '.', 'à': 'a', '−': '-', \n",
    "                 'β': 'beta', '∅': '', '³': '3', 'π': 'pi', '!':' '}\n",
    "\n",
    "mispell_dict = {'colour': 'color', 'centre': 'center', 'favourite': 'favorite', 'travelling': 'traveling', 'counselling': 'counseling', 'theatre': 'theater',\n",
    "                'cancelled': 'canceled', 'labour': 'labor', 'organisation': 'organization', 'wwii': 'world war 2', 'citicise': 'criticize', 'youtu ': 'youtube ',\n",
    "                'Qoura': 'Quora', 'sallary': 'salary', 'Whta': 'What', 'narcisist': 'narcissist', 'howdo': 'how do', 'whatare': 'what are', 'howcan': 'how can',\n",
    "                'howmuch': 'how much', 'howmany': 'how many', 'whydo': 'why do', 'doI': 'do I', 'theBest': 'the best', 'howdoes': 'how does', \n",
    "                'mastrubation': 'masturbation', 'mastrubate': 'masturbate', \"mastrubating\": 'masturbating', 'pennis': 'penis', 'Etherium': 'Ethereum', \n",
    "                'narcissit': 'narcissist', 'bigdata': 'big data', '2k17': '2017', '2k18': '2018', 'qouta': 'quota', 'exboyfriend': 'ex boyfriend', \n",
    "                'airhostess': 'air hostess', \"whst\": 'what', 'watsapp': 'whatsapp', 'demonitisation': 'demonetization', 'demonitization': 'demonetization',\n",
    "                'demonetisation': 'demonetization'}"
   ]
  },
  {
   "cell_type": "code",
   "execution_count": 70,
   "id": "8c6bbb2a-dc39-499d-817d-4d95fb7e2dda",
   "metadata": {},
   "outputs": [],
   "source": [
    "import os\n",
    "import matplotlib.pyplot as plt\n",
    "import re\n",
    "import string\n",
    "import json\n",
    "import numpy as np\n",
    "import pandas as pd\n",
    "from sklearn import metrics\n",
    "from bs4 import BeautifulSoup\n",
    "import transformers\n",
    "import torch\n",
    "from torch.utils.data import Dataset, DataLoader, RandomSampler, SequentialSampler\n",
    "from transformers import BertTokenizer, AutoTokenizer, BertModel, BertConfig, AutoModel, AdamW\n",
    "import warnings\n",
    "warnings.filterwarnings('ignore')"
   ]
  },
  {
   "cell_type": "code",
   "execution_count": 71,
   "id": "a802e871-9f11-4732-91a7-9bd7ee677055",
   "metadata": {},
   "outputs": [],
   "source": [
    "import re\n",
    "def clean_text(text):\n",
    "    '''Make text lowercase, remove text in square brackets,remove links,remove punctuation\n",
    "    and remove words containing numbers.'''\n",
    "    text = re.sub(r'\\:(.*?)\\:','',text)\n",
    "    text = str(text).lower()    #Making Text Lowercase\n",
    "    text = re.sub('\\[.*?\\]', '', text)\n",
    "    #The next 2 lines remove html text\n",
    "    text = BeautifulSoup(text, 'lxml').get_text()\n",
    "    text = re.sub('https?://\\S+|www\\.\\S+', '', text)\n",
    "    text = re.sub('<.*?>+', '', text)\n",
    "    text = re.sub('\\n', '', text)\n",
    "    text = re.sub('\\w*\\d\\w*', '', text)\n",
    "    # replacing everything with space except (a-z, A-Z, \".\", \"?\", \"!\", \",\", \"'\")\n",
    "    text = re.sub(r\"[^a-zA-Z?.!,¿']+\", \" \", text)\n",
    "    return text\n",
    "\n",
    "def clean_contractions(text, mapping):\n",
    "    '''Clean contraction using contraction mapping'''    \n",
    "    specials = [\"’\", \"‘\", \"´\", \"`\"]\n",
    "    for s in specials:\n",
    "        text = text.replace(s, \"'\")\n",
    "    for word in mapping.keys():\n",
    "        if \"\"+word+\"\" in text:\n",
    "            text = text.replace(\"\"+word+\"\", \"\"+mapping[word]+\"\")\n",
    "    #Remove Punctuations\n",
    "    text = re.sub('[%s]' % re.escape(string.punctuation), '', text)\n",
    "    # creating a space between a word and the punctuation following it\n",
    "    # eg: \"he is a boy.\" => \"he is a boy .\"\n",
    "    text = re.sub(r\"([?.!,¿])\", r\" \\1 \", text)\n",
    "    text = re.sub(r'[\" \"]+', \" \", text)\n",
    "    return text\n",
    "\n",
    "def clean_special_chars(text, punct, mapping):\n",
    "    '''Cleans special characters present(if any)'''   \n",
    "    for p in mapping:\n",
    "        text = text.replace(p, mapping[p])\n",
    "    \n",
    "    for p in punct:\n",
    "        text = text.replace(p, f' {p} ')\n",
    "    \n",
    "    specials = {'\\u200b': ' ', '…': ' ... ', '\\ufeff': '', 'करना': '', 'है': ''}  \n",
    "    for s in specials:\n",
    "        text = text.replace(s, specials[s])\n",
    "    \n",
    "    return text\n",
    "\n",
    "def correct_spelling(x, dic):\n",
    "    '''Corrects common spelling errors'''   \n",
    "    for word in dic.keys():\n",
    "        x = x.replace(word, dic[word])\n",
    "    return x\n",
    "\n",
    "def remove_space(text):\n",
    "    '''Removes awkward spaces'''   \n",
    "    #Removes awkward spaces \n",
    "    text = text.strip()\n",
    "    text = text.split()\n",
    "    return \" \".join(text)\n",
    "\n",
    "def text_preprocessing_pipeline(text):\n",
    "    '''Cleaning and parsing the text.'''\n",
    "    text = clean_text(text)\n",
    "    text = clean_contractions(text, contraction_mapping)\n",
    "    text = clean_special_chars(text, punct, punct_mapping)\n",
    "    text = correct_spelling(text, mispell_dict)\n",
    "    text = remove_space(text)\n",
    "    return text"
   ]
  },
  {
   "cell_type": "code",
   "execution_count": 72,
   "id": "43287305-905d-4ac3-869c-a4774725a34e",
   "metadata": {},
   "outputs": [],
   "source": [
    "train_data['Comment'] = train_data['Comment'].apply(text_preprocessing_pipeline)\n",
    "val_data['Comment'] = val_data['Comment'].apply(text_preprocessing_pipeline)"
   ]
  },
  {
   "cell_type": "code",
   "execution_count": 73,
   "id": "982a5d06-0884-46ec-9c52-131c5ad69b60",
   "metadata": {},
   "outputs": [
    {
     "data": {
      "text/plain": [
       "0        my favorite food is anything i did not have to...\n",
       "1        now if he does off himself everyone will think...\n",
       "2                           why the fuck is bayless isoing\n",
       "3                              to make her feel threatened\n",
       "4                                   dirty southern wankers\n",
       "                               ...                        \n",
       "43222    added you mate well i ve just got the bow and ...\n",
       "43223    always thought that was funny but is it a refe...\n",
       "43224    what are you talking about anything bad that h...\n",
       "43225                more like a baptism with sexy results\n",
       "43226                                       enjoy the ride\n",
       "Name: Comment, Length: 43227, dtype: object"
      ]
     },
     "execution_count": 73,
     "metadata": {},
     "output_type": "execute_result"
    }
   ],
   "source": [
    "train_data['Comment']"
   ]
  },
  {
   "cell_type": "code",
   "execution_count": 75,
   "id": "144cefc9-fa62-4d64-821c-01d555271ae4",
   "metadata": {},
   "outputs": [
    {
     "data": {
      "text/html": [
       "<div>\n",
       "<style scoped>\n",
       "    .dataframe tbody tr th:only-of-type {\n",
       "        vertical-align: middle;\n",
       "    }\n",
       "\n",
       "    .dataframe tbody tr th {\n",
       "        vertical-align: top;\n",
       "    }\n",
       "\n",
       "    .dataframe thead th {\n",
       "        text-align: right;\n",
       "    }\n",
       "</style>\n",
       "<table border=\"1\" class=\"dataframe\">\n",
       "  <thead>\n",
       "    <tr style=\"text-align: right;\">\n",
       "      <th></th>\n",
       "      <th>Comment</th>\n",
       "      <th>Emotion</th>\n",
       "    </tr>\n",
       "  </thead>\n",
       "  <tbody>\n",
       "    <tr>\n",
       "      <th>0</th>\n",
       "      <td>my favorite food is anything i did not have to...</td>\n",
       "      <td>neutral</td>\n",
       "    </tr>\n",
       "    <tr>\n",
       "      <th>1</th>\n",
       "      <td>now if he does off himself everyone will think...</td>\n",
       "      <td>neutral</td>\n",
       "    </tr>\n",
       "    <tr>\n",
       "      <th>2</th>\n",
       "      <td>why the fuck is bayless isoing</td>\n",
       "      <td>anger</td>\n",
       "    </tr>\n",
       "    <tr>\n",
       "      <th>3</th>\n",
       "      <td>to make her feel threatened</td>\n",
       "      <td>fear</td>\n",
       "    </tr>\n",
       "    <tr>\n",
       "      <th>4</th>\n",
       "      <td>dirty southern wankers</td>\n",
       "      <td>anger</td>\n",
       "    </tr>\n",
       "    <tr>\n",
       "      <th>...</th>\n",
       "      <td>...</td>\n",
       "      <td>...</td>\n",
       "    </tr>\n",
       "    <tr>\n",
       "      <th>43222</th>\n",
       "      <td>added you mate well i ve just got the bow and ...</td>\n",
       "      <td>joy</td>\n",
       "    </tr>\n",
       "    <tr>\n",
       "      <th>43223</th>\n",
       "      <td>always thought that was funny but is it a refe...</td>\n",
       "      <td>surprise</td>\n",
       "    </tr>\n",
       "    <tr>\n",
       "      <th>43224</th>\n",
       "      <td>what are you talking about anything bad that h...</td>\n",
       "      <td>anger</td>\n",
       "    </tr>\n",
       "    <tr>\n",
       "      <th>43225</th>\n",
       "      <td>more like a baptism with sexy results</td>\n",
       "      <td>joy</td>\n",
       "    </tr>\n",
       "    <tr>\n",
       "      <th>43226</th>\n",
       "      <td>enjoy the ride</td>\n",
       "      <td>joy</td>\n",
       "    </tr>\n",
       "  </tbody>\n",
       "</table>\n",
       "<p>43227 rows × 2 columns</p>\n",
       "</div>"
      ],
      "text/plain": [
       "                                                 Comment   Emotion\n",
       "0      my favorite food is anything i did not have to...   neutral\n",
       "1      now if he does off himself everyone will think...   neutral\n",
       "2                         why the fuck is bayless isoing     anger\n",
       "3                            to make her feel threatened      fear\n",
       "4                                 dirty southern wankers     anger\n",
       "...                                                  ...       ...\n",
       "43222  added you mate well i ve just got the bow and ...       joy\n",
       "43223  always thought that was funny but is it a refe...  surprise\n",
       "43224  what are you talking about anything bad that h...     anger\n",
       "43225              more like a baptism with sexy results       joy\n",
       "43226                                     enjoy the ride       joy\n",
       "\n",
       "[43227 rows x 2 columns]"
      ]
     },
     "execution_count": 75,
     "metadata": {},
     "output_type": "execute_result"
    }
   ],
   "source": [
    "train_data"
   ]
  },
  {
   "cell_type": "code",
   "execution_count": 78,
   "id": "31ac6c09-6724-414a-aa4e-dbeb71374f69",
   "metadata": {},
   "outputs": [
    {
     "data": {
      "image/png": "[encoded data removed]",
      "text/plain": [
       "<Figure size 1000x600 with 1 Axes>"
      ]
     },
     "metadata": {},
     "output_type": "display_data"
    }
   ],
   "source": [
    "import seaborn as sns\n",
    "import matplotlib.pyplot as plt\n",
    "\n",
    "# Plotting\n",
    "plt.figure(figsize=(10, 6))\n",
    "sns.countplot(x='Emotion', data=train_data, order=train_data['Emotion'].value_counts().index)\n",
    "plt.title('Distribution of Emotions')\n",
    "plt.xlabel('Emotion')\n",
    "plt.ylabel('Count')\n",
    "plt.xticks(rotation=45)\n",
    "plt.show()"
   ]
  },
  {
   "cell_type": "code",
   "execution_count": 79,
   "id": "37b5cdef-0ab1-41bd-b72c-bfa6faf702ce",
   "metadata": {},
   "outputs": [
    {
     "data": {
      "image/png": "[encoded data removed]",
      "text/plain": [
       "<Figure size 1000x600 with 1 Axes>"
      ]
     },
     "metadata": {},
     "output_type": "display_data"
    }
   ],
   "source": [
    "plt.figure(figsize=(10, 6))\n",
    "sns.countplot(x='Emotion', data=val_data, order=val_data['Emotion'].value_counts().index)\n",
    "plt.title('Distribution of Emotions')\n",
    "plt.xlabel('Emotion')\n",
    "plt.ylabel('Count')\n",
    "plt.xticks(rotation=45)\n",
    "plt.show()"
   ]
  },
  {
   "cell_type": "code",
   "execution_count": 80,
   "id": "ce0bce7a-11c8-4c15-8f1a-0b721a32a1b2",
   "metadata": {},
   "outputs": [
    {
     "data": {
      "image/png": "[encoded data removed]",
      "text/plain": [
       "<Figure size 1000x600 with 1 Axes>"
      ]
     },
     "metadata": {},
     "output_type": "display_data"
    }
   ],
   "source": [
    "plt.figure(figsize=(10, 6))\n",
    "sns.countplot(x='Emotion', data=test_data, order=test_data['Emotion'].value_counts().index)\n",
    "plt.title('Distribution of Emotions')\n",
    "plt.xlabel('Emotion')\n",
    "plt.ylabel('Count')\n",
    "plt.xticks(rotation=45)\n",
    "plt.show()"
   ]
  },
  {
   "cell_type": "code",
   "execution_count": 77,
   "id": "8e1d053c-136c-467a-a00e-262970ff9588",
   "metadata": {},
   "outputs": [
    {
     "ename": "KeyError",
     "evalue": "'Text'",
     "output_type": "error",
     "traceback": [
      "\u001b[0;31m---------------------------------------------------------------------------\u001b[0m",
      "\u001b[0;31mKeyError\u001b[0m                                  Traceback (most recent call last)",
      "File \u001b[0;32m/Applications/Anaconda/anaconda3/lib/python3.11/site-packages/pandas/core/indexes/base.py:3791\u001b[0m, in \u001b[0;36mIndex.get_loc\u001b[0;34m(self, key)\u001b[0m\n\u001b[1;32m   3790\u001b[0m \u001b[38;5;28;01mtry\u001b[39;00m:\n\u001b[0;32m-> 3791\u001b[0m     \u001b[38;5;28;01mreturn\u001b[39;00m \u001b[38;5;28mself\u001b[39m\u001b[38;5;241m.\u001b[39m_engine\u001b[38;5;241m.\u001b[39mget_loc(casted_key)\n\u001b[1;32m   3792\u001b[0m \u001b[38;5;28;01mexcept\u001b[39;00m \u001b[38;5;167;01mKeyError\u001b[39;00m \u001b[38;5;28;01mas\u001b[39;00m err:\n",
      "File \u001b[0;32mindex.pyx:152\u001b[0m, in \u001b[0;36mpandas._libs.index.IndexEngine.get_loc\u001b[0;34m()\u001b[0m\n",
      "File \u001b[0;32mindex.pyx:181\u001b[0m, in \u001b[0;36mpandas._libs.index.IndexEngine.get_loc\u001b[0;34m()\u001b[0m\n",
      "File \u001b[0;32mpandas/_libs/hashtable_class_helper.pxi:7080\u001b[0m, in \u001b[0;36mpandas._libs.hashtable.PyObjectHashTable.get_item\u001b[0;34m()\u001b[0m\n",
      "File \u001b[0;32mpandas/_libs/hashtable_class_helper.pxi:7088\u001b[0m, in \u001b[0;36mpandas._libs.hashtable.PyObjectHashTable.get_item\u001b[0;34m()\u001b[0m\n",
      "\u001b[0;31mKeyError\u001b[0m: 'Text'",
      "\nThe above exception was the direct cause of the following exception:\n",
      "\u001b[0;31mKeyError\u001b[0m                                  Traceback (most recent call last)",
      "Cell \u001b[0;32mIn[77], line 19\u001b[0m\n\u001b[1;32m     16\u001b[0m     text \u001b[38;5;241m=\u001b[39m preprocess(text)\n\u001b[1;32m     17\u001b[0m     \u001b[38;5;28;01mreturn\u001b[39;00m text\n\u001b[0;32m---> 19\u001b[0m train_data[\u001b[38;5;124m'\u001b[39m\u001b[38;5;124mText\u001b[39m\u001b[38;5;124m'\u001b[39m] \u001b[38;5;241m=\u001b[39m train_data[\u001b[38;5;124m'\u001b[39m\u001b[38;5;124mText\u001b[39m\u001b[38;5;124m'\u001b[39m]\u001b[38;5;241m.\u001b[39mapply(\u001b[38;5;28;01mlambda\u001b[39;00m x: preprocess(x))\n\u001b[1;32m     20\u001b[0m valid_data[\u001b[38;5;124m\"\u001b[39m\u001b[38;5;124mText\u001b[39m\u001b[38;5;124m\"\u001b[39m] \u001b[38;5;241m=\u001b[39m valid_data[\u001b[38;5;124m\"\u001b[39m\u001b[38;5;124mText\u001b[39m\u001b[38;5;124m\"\u001b[39m]\u001b[38;5;241m.\u001b[39mapply(\u001b[38;5;28;01mlambda\u001b[39;00m x: preprocess(x))\n\u001b[1;32m     21\u001b[0m test_data[\u001b[38;5;124m\"\u001b[39m\u001b[38;5;124mText\u001b[39m\u001b[38;5;124m\"\u001b[39m] \u001b[38;5;241m=\u001b[39m test_data[\u001b[38;5;124m\"\u001b[39m\u001b[38;5;124mText\u001b[39m\u001b[38;5;124m\"\u001b[39m]\u001b[38;5;241m.\u001b[39mapply(text_preprocessing_pipeline)\n",
      "File \u001b[0;32m/Applications/Anaconda/anaconda3/lib/python3.11/site-packages/pandas/core/frame.py:3893\u001b[0m, in \u001b[0;36mDataFrame.__getitem__\u001b[0;34m(self, key)\u001b[0m\n\u001b[1;32m   3891\u001b[0m \u001b[38;5;28;01mif\u001b[39;00m \u001b[38;5;28mself\u001b[39m\u001b[38;5;241m.\u001b[39mcolumns\u001b[38;5;241m.\u001b[39mnlevels \u001b[38;5;241m>\u001b[39m \u001b[38;5;241m1\u001b[39m:\n\u001b[1;32m   3892\u001b[0m     \u001b[38;5;28;01mreturn\u001b[39;00m \u001b[38;5;28mself\u001b[39m\u001b[38;5;241m.\u001b[39m_getitem_multilevel(key)\n\u001b[0;32m-> 3893\u001b[0m indexer \u001b[38;5;241m=\u001b[39m \u001b[38;5;28mself\u001b[39m\u001b[38;5;241m.\u001b[39mcolumns\u001b[38;5;241m.\u001b[39mget_loc(key)\n\u001b[1;32m   3894\u001b[0m \u001b[38;5;28;01mif\u001b[39;00m is_integer(indexer):\n\u001b[1;32m   3895\u001b[0m     indexer \u001b[38;5;241m=\u001b[39m [indexer]\n",
      "File \u001b[0;32m/Applications/Anaconda/anaconda3/lib/python3.11/site-packages/pandas/core/indexes/base.py:3798\u001b[0m, in \u001b[0;36mIndex.get_loc\u001b[0;34m(self, key)\u001b[0m\n\u001b[1;32m   3793\u001b[0m     \u001b[38;5;28;01mif\u001b[39;00m \u001b[38;5;28misinstance\u001b[39m(casted_key, \u001b[38;5;28mslice\u001b[39m) \u001b[38;5;129;01mor\u001b[39;00m (\n\u001b[1;32m   3794\u001b[0m         \u001b[38;5;28misinstance\u001b[39m(casted_key, abc\u001b[38;5;241m.\u001b[39mIterable)\n\u001b[1;32m   3795\u001b[0m         \u001b[38;5;129;01mand\u001b[39;00m \u001b[38;5;28many\u001b[39m(\u001b[38;5;28misinstance\u001b[39m(x, \u001b[38;5;28mslice\u001b[39m) \u001b[38;5;28;01mfor\u001b[39;00m x \u001b[38;5;129;01min\u001b[39;00m casted_key)\n\u001b[1;32m   3796\u001b[0m     ):\n\u001b[1;32m   3797\u001b[0m         \u001b[38;5;28;01mraise\u001b[39;00m InvalidIndexError(key)\n\u001b[0;32m-> 3798\u001b[0m     \u001b[38;5;28;01mraise\u001b[39;00m \u001b[38;5;167;01mKeyError\u001b[39;00m(key) \u001b[38;5;28;01mfrom\u001b[39;00m \u001b[38;5;21;01merr\u001b[39;00m\n\u001b[1;32m   3799\u001b[0m \u001b[38;5;28;01mexcept\u001b[39;00m \u001b[38;5;167;01mTypeError\u001b[39;00m:\n\u001b[1;32m   3800\u001b[0m     \u001b[38;5;66;03m# If we have a listlike key, _check_indexing_error will raise\u001b[39;00m\n\u001b[1;32m   3801\u001b[0m     \u001b[38;5;66;03m#  InvalidIndexError. Otherwise we fall through and re-raise\u001b[39;00m\n\u001b[1;32m   3802\u001b[0m     \u001b[38;5;66;03m#  the TypeError.\u001b[39;00m\n\u001b[1;32m   3803\u001b[0m     \u001b[38;5;28mself\u001b[39m\u001b[38;5;241m.\u001b[39m_check_indexing_error(key)\n",
      "\u001b[0;31mKeyError\u001b[0m: 'Text'"
     ]
    }
   ],
   "source": [
    "# another approach!!\n",
    "\n",
    "\n",
    "def preprocess(sentence):\n",
    "    stop_words = set(stopwords.words('english'))\n",
    "    lemmatizer = WordNetLemmatizer()\n",
    "    sentence = re.sub('[^A-z]', ' ', sentence)\n",
    "    negative = ['not', 'neither', 'nor', 'but', 'however', 'although', 'nonetheless', 'despite', 'except',\n",
    "                        'even though', 'yet']\n",
    "    stop_words = [z for z in stop_words if z not in negative]\n",
    "    preprocessed_tokens = [lemmatizer.lemmatize(contractions.fix(temp.lower())) for temp in sentence.split() if temp not in stop_words] #lemmatization\n",
    "    return ' '.join([x for x in preprocessed_tokens]).strip()\n",
    "\n",
    "def text_preprocessing_pipeline(text):\n",
    "    '''Cleaning and parsing the text.'''\n",
    "    text = preprocess(text)\n",
    "    return text\n",
    "\n",
    "train_data['Text'] = train_data['Text'].apply(lambda x: preprocess(x))\n",
    "valid_data[\"Text\"] = valid_data[\"Text\"].apply(lambda x: preprocess(x))\n",
    "test_data[\"Text\"] = test_data[\"Text\"].apply(text_preprocessing_pipeline)"
   ]
  },
  {
   "cell_type": "code",
   "execution_count": null,
   "id": "96086304-f88f-4aae-85fb-4b605d23c51a",
   "metadata": {},
   "outputs": [],
   "source": []
  }
 ],
 "metadata": {
  "kernelspec": {
   "display_name": "Python 3 (ipykernel)",
   "language": "python",
   "name": "python3"
  },
  "language_info": {
   "codemirror_mode": {
    "name": "ipython",
    "version": 3
   },
   "file_extension": ".py",
   "mimetype": "text/x-python",
   "name": "python",
   "nbconvert_exporter": "python",
   "pygments_lexer": "ipython3",
   "version": "3.11.7"
  }
 },
 "nbformat": 4,
 "nbformat_minor": 5
}
